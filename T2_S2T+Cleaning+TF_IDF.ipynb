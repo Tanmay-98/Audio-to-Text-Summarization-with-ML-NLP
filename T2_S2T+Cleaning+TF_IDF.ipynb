{
 "cells": [
  {
   "cell_type": "code",
   "execution_count": 1,
   "id": "6787f493",
   "metadata": {},
   "outputs": [],
   "source": [
    "import whisper\n",
    "\n",
    "from sklearn.feature_extraction.text import TfidfVectorizer\n",
    "from spacy.lang.en import English\n",
    "from spacy.pipeline import EntityRuler\n",
    "import numpy as np\n",
    "\n",
    "from textblob import TextBlob\n",
    "\n",
    "import nltk"
   ]
  },
  {
   "cell_type": "code",
   "execution_count": 2,
   "id": "73c6a526",
   "metadata": {},
   "outputs": [],
   "source": [
    "model = whisper.load_model(\"base\")"
   ]
  },
  {
   "cell_type": "code",
   "execution_count": 3,
   "id": "abde483c",
   "metadata": {},
   "outputs": [],
   "source": [
    "# name = 'Anywhere_operations.mp3'\n",
    "name = 'audio.mp3'\n",
    "result = model.transcribe(audio=\"{}\".format(name),fp16=False)"
   ]
  },
  {
   "cell_type": "code",
   "execution_count": 4,
   "id": "ddf292ce",
   "metadata": {},
   "outputs": [
    {
     "name": "stdout",
     "output_type": "stream",
     "text": [
      " Hello! I'm back! I'm back in San Francisco. As you may know, I have been traveling for the last 10 weeks. So that's why I have not added more podcasts to the Effortless English podcast. I've been traveling in Thailand and Singapore and Cambodia. And I did a big seminar, an Effortless English seminar in Bangkok, and it was fantastic. It was amazing. But unfortunately, I was very busy while traveling. And I just didn't have time or fast internet connections to add more podcasts. But now I just got back to San Francisco. I just got back home. So now I will be adding more podcasts again. And this is the first one. So back in San Francisco, look forward to more podcasts from Effortless English coming soon. This is AJ Hogue. See you soon. Bye-bye. Oh, and one more thing. Our new video, Master Member Site, is almost ready for testing. In fact, we will probably start testing with a few of our all-star members next week. This is a very, very exciting project. So this site will be a member site. So members will join. You pay a monthly subscription. Not so much. It will be less than $25 a month. Not so much. Quite cheap. We're keeping it cheaper. And you'll sign up. You'll subscribe to the video site. You'll get a username and a password. And then you can watch videos of me with text. So again, you can get a lot more English input. And you'll also be able to read everything. So you can use a dictionary if you need to. So this will be a very exciting fun site with, I'll add little extra lessons and lots of fun videos. So coming soon, our Master Member Video Site. And next week, we will begin testing it with just a few of our special top members. I'll keep giving you more information about the video site as we test it. And I will tell you when it's ready for everybody. Very, very exciting. So keep coming back and listening for updates about our new subscription member video site, the Master Member Video Site. Coming soon. Bye bye.\n"
     ]
    }
   ],
   "source": [
    "text = result[\"text\"]\n",
    "print(text)"
   ]
  },
  {
   "cell_type": "markdown",
   "id": "885d3b08",
   "metadata": {},
   "source": [
    "# ###"
   ]
  },
  {
   "cell_type": "code",
   "execution_count": 5,
   "id": "c69009c1",
   "metadata": {},
   "outputs": [
    {
     "data": {
      "text/plain": [
       "[('Hello', 'NN'),\n",
       " ('I', 'PRP'),\n",
       " (\"'m\", 'VBP'),\n",
       " ('back', 'RB'),\n",
       " ('I', 'PRP'),\n",
       " (\"'m\", 'VBP'),\n",
       " ('back', 'RB'),\n",
       " ('in', 'IN'),\n",
       " ('San', 'NNP'),\n",
       " ('Francisco', 'NNP'),\n",
       " ('As', 'IN'),\n",
       " ('you', 'PRP'),\n",
       " ('may', 'MD'),\n",
       " ('know', 'VB'),\n",
       " ('I', 'PRP'),\n",
       " ('have', 'VBP'),\n",
       " ('been', 'VBN'),\n",
       " ('traveling', 'VBG'),\n",
       " ('for', 'IN'),\n",
       " ('the', 'DT'),\n",
       " ('last', 'JJ'),\n",
       " ('10', 'CD'),\n",
       " ('weeks', 'NNS'),\n",
       " ('So', 'IN'),\n",
       " ('that', 'DT'),\n",
       " (\"'s\", 'VBZ'),\n",
       " ('why', 'WRB'),\n",
       " ('I', 'PRP'),\n",
       " ('have', 'VBP'),\n",
       " ('not', 'RB'),\n",
       " ('added', 'VBN'),\n",
       " ('more', 'RBR'),\n",
       " ('podcasts', 'NNS'),\n",
       " ('to', 'TO'),\n",
       " ('the', 'DT'),\n",
       " ('Effortless', 'NNP'),\n",
       " ('English', 'NNP'),\n",
       " ('podcast', 'NN'),\n",
       " ('I', 'PRP'),\n",
       " (\"'ve\", 'VBP'),\n",
       " ('been', 'VBN'),\n",
       " ('traveling', 'VBG'),\n",
       " ('in', 'IN'),\n",
       " ('Thailand', 'NNP'),\n",
       " ('and', 'CC'),\n",
       " ('Singapore', 'NNP'),\n",
       " ('and', 'CC'),\n",
       " ('Cambodia', 'NNP'),\n",
       " ('And', 'CC'),\n",
       " ('I', 'PRP'),\n",
       " ('did', 'VBD'),\n",
       " ('a', 'DT'),\n",
       " ('big', 'JJ'),\n",
       " ('seminar', 'NN'),\n",
       " ('an', 'DT'),\n",
       " ('Effortless', 'NNP'),\n",
       " ('English', 'NNP'),\n",
       " ('seminar', 'NN'),\n",
       " ('in', 'IN'),\n",
       " ('Bangkok', 'NNP'),\n",
       " ('and', 'CC'),\n",
       " ('it', 'PRP'),\n",
       " ('was', 'VBD'),\n",
       " ('fantastic', 'JJ'),\n",
       " ('It', 'PRP'),\n",
       " ('was', 'VBD'),\n",
       " ('amazing', 'VBG'),\n",
       " ('But', 'CC'),\n",
       " ('unfortunately', 'RB'),\n",
       " ('I', 'PRP'),\n",
       " ('was', 'VBD'),\n",
       " ('very', 'RB'),\n",
       " ('busy', 'JJ'),\n",
       " ('while', 'IN'),\n",
       " ('traveling', 'VBG'),\n",
       " ('And', 'CC'),\n",
       " ('I', 'PRP'),\n",
       " ('just', 'RB'),\n",
       " ('did', 'VBD'),\n",
       " (\"n't\", 'RB'),\n",
       " ('have', 'VB'),\n",
       " ('time', 'NN'),\n",
       " ('or', 'CC'),\n",
       " ('fast', 'JJ'),\n",
       " ('internet', 'NN'),\n",
       " ('connections', 'NNS'),\n",
       " ('to', 'TO'),\n",
       " ('add', 'VB'),\n",
       " ('more', 'JJR'),\n",
       " ('podcasts', 'NNS'),\n",
       " ('But', 'CC'),\n",
       " ('now', 'RB'),\n",
       " ('I', 'PRP'),\n",
       " ('just', 'RB'),\n",
       " ('got', 'VBD'),\n",
       " ('back', 'RB'),\n",
       " ('to', 'TO'),\n",
       " ('San', 'NNP'),\n",
       " ('Francisco', 'NNP'),\n",
       " ('I', 'PRP'),\n",
       " ('just', 'RB'),\n",
       " ('got', 'VBD'),\n",
       " ('back', 'RB'),\n",
       " ('home', 'NN'),\n",
       " ('So', 'RB'),\n",
       " ('now', 'RB'),\n",
       " ('I', 'PRP'),\n",
       " ('will', 'MD'),\n",
       " ('be', 'VB'),\n",
       " ('adding', 'VBG'),\n",
       " ('more', 'JJR'),\n",
       " ('podcasts', 'NNS'),\n",
       " ('again', 'RB'),\n",
       " ('And', 'CC'),\n",
       " ('this', 'DT'),\n",
       " ('is', 'VBZ'),\n",
       " ('the', 'DT'),\n",
       " ('first', 'JJ'),\n",
       " ('one', 'NN'),\n",
       " ('So', 'RB'),\n",
       " ('back', 'RB'),\n",
       " ('in', 'IN'),\n",
       " ('San', 'NNP'),\n",
       " ('Francisco', 'NNP'),\n",
       " ('look', 'VB'),\n",
       " ('forward', 'RB'),\n",
       " ('to', 'TO'),\n",
       " ('more', 'JJR'),\n",
       " ('podcasts', 'NNS'),\n",
       " ('from', 'IN'),\n",
       " ('Effortless', 'NNP'),\n",
       " ('English', 'NNP'),\n",
       " ('coming', 'VBG'),\n",
       " ('soon', 'RB'),\n",
       " ('This', 'DT'),\n",
       " ('is', 'VBZ'),\n",
       " ('AJ', 'NNP'),\n",
       " ('Hogue', 'NNP'),\n",
       " ('See', 'VB'),\n",
       " ('you', 'PRP'),\n",
       " ('soon', 'RB'),\n",
       " ('Bye-bye', 'NNP'),\n",
       " ('Oh', 'UH'),\n",
       " ('and', 'CC'),\n",
       " ('one', 'CD'),\n",
       " ('more', 'JJR'),\n",
       " ('thing', 'NN'),\n",
       " ('Our', 'PRP$'),\n",
       " ('new', 'JJ'),\n",
       " ('video', 'NN'),\n",
       " ('Master', 'NNP'),\n",
       " ('Member', 'NNP'),\n",
       " ('Site', 'NNP'),\n",
       " ('is', 'VBZ'),\n",
       " ('almost', 'RB'),\n",
       " ('ready', 'JJ'),\n",
       " ('for', 'IN'),\n",
       " ('testing', 'VBG'),\n",
       " ('In', 'IN'),\n",
       " ('fact', 'NN'),\n",
       " ('we', 'PRP'),\n",
       " ('will', 'MD'),\n",
       " ('probably', 'RB'),\n",
       " ('start', 'VB'),\n",
       " ('testing', 'VBG'),\n",
       " ('with', 'IN'),\n",
       " ('a', 'DT'),\n",
       " ('few', 'JJ'),\n",
       " ('of', 'IN'),\n",
       " ('our', 'PRP$'),\n",
       " ('all-star', 'JJ'),\n",
       " ('members', 'NNS'),\n",
       " ('next', 'IN'),\n",
       " ('week', 'NN'),\n",
       " ('This', 'DT'),\n",
       " ('is', 'VBZ'),\n",
       " ('a', 'DT'),\n",
       " ('very', 'RB'),\n",
       " ('very', 'RB'),\n",
       " ('exciting', 'JJ'),\n",
       " ('project', 'NN'),\n",
       " ('So', 'RB'),\n",
       " ('this', 'DT'),\n",
       " ('site', 'NN'),\n",
       " ('will', 'MD'),\n",
       " ('be', 'VB'),\n",
       " ('a', 'DT'),\n",
       " ('member', 'NN'),\n",
       " ('site', 'NN'),\n",
       " ('So', 'IN'),\n",
       " ('members', 'NNS'),\n",
       " ('will', 'MD'),\n",
       " ('join', 'VB'),\n",
       " ('You', 'PRP'),\n",
       " ('pay', 'VBP'),\n",
       " ('a', 'DT'),\n",
       " ('monthly', 'JJ'),\n",
       " ('subscription', 'NN'),\n",
       " ('Not', 'RB'),\n",
       " ('so', 'RB'),\n",
       " ('much', 'JJ'),\n",
       " ('It', 'PRP'),\n",
       " ('will', 'MD'),\n",
       " ('be', 'VB'),\n",
       " ('less', 'JJR'),\n",
       " ('than', 'IN'),\n",
       " ('25', 'CD'),\n",
       " ('a', 'DT'),\n",
       " ('month', 'NN'),\n",
       " ('Not', 'RB'),\n",
       " ('so', 'RB'),\n",
       " ('much', 'JJ'),\n",
       " ('Quite', 'RB'),\n",
       " ('cheap', 'JJ'),\n",
       " ('We', 'PRP'),\n",
       " (\"'re\", 'VBP'),\n",
       " ('keeping', 'VBG'),\n",
       " ('it', 'PRP'),\n",
       " ('cheaper', 'JJR'),\n",
       " ('And', 'CC'),\n",
       " ('you', 'PRP'),\n",
       " (\"'ll\", 'MD'),\n",
       " ('sign', 'VB'),\n",
       " ('up', 'RP'),\n",
       " ('You', 'PRP'),\n",
       " (\"'ll\", 'MD'),\n",
       " ('subscribe', 'VB'),\n",
       " ('to', 'TO'),\n",
       " ('the', 'DT'),\n",
       " ('video', 'NN'),\n",
       " ('site', 'NN'),\n",
       " ('You', 'PRP'),\n",
       " (\"'ll\", 'MD'),\n",
       " ('get', 'VB'),\n",
       " ('a', 'DT'),\n",
       " ('username', 'NN'),\n",
       " ('and', 'CC'),\n",
       " ('a', 'DT'),\n",
       " ('password', 'NN'),\n",
       " ('And', 'CC'),\n",
       " ('then', 'RB'),\n",
       " ('you', 'PRP'),\n",
       " ('can', 'MD'),\n",
       " ('watch', 'VB'),\n",
       " ('videos', 'NN'),\n",
       " ('of', 'IN'),\n",
       " ('me', 'PRP'),\n",
       " ('with', 'IN'),\n",
       " ('text', 'NN'),\n",
       " ('So', 'RB'),\n",
       " ('again', 'RB'),\n",
       " ('you', 'PRP'),\n",
       " ('can', 'MD'),\n",
       " ('get', 'VB'),\n",
       " ('a', 'DT'),\n",
       " ('lot', 'NN'),\n",
       " ('more', 'RBR'),\n",
       " ('English', 'JJ'),\n",
       " ('input', 'NN'),\n",
       " ('And', 'CC'),\n",
       " ('you', 'PRP'),\n",
       " (\"'ll\", 'MD'),\n",
       " ('also', 'RB'),\n",
       " ('be', 'VB'),\n",
       " ('able', 'JJ'),\n",
       " ('to', 'TO'),\n",
       " ('read', 'VB'),\n",
       " ('everything', 'NN'),\n",
       " ('So', 'IN'),\n",
       " ('you', 'PRP'),\n",
       " ('can', 'MD'),\n",
       " ('use', 'VB'),\n",
       " ('a', 'DT'),\n",
       " ('dictionary', 'JJ'),\n",
       " ('if', 'IN'),\n",
       " ('you', 'PRP'),\n",
       " ('need', 'VBP'),\n",
       " ('to', 'TO'),\n",
       " ('So', 'RB'),\n",
       " ('this', 'DT'),\n",
       " ('will', 'MD'),\n",
       " ('be', 'VB'),\n",
       " ('a', 'DT'),\n",
       " ('very', 'RB'),\n",
       " ('exciting', 'JJ'),\n",
       " ('fun', 'NN'),\n",
       " ('site', 'NN'),\n",
       " ('with', 'IN'),\n",
       " ('I', 'PRP'),\n",
       " (\"'ll\", 'MD'),\n",
       " ('add', 'VB'),\n",
       " ('little', 'JJ'),\n",
       " ('extra', 'JJ'),\n",
       " ('lessons', 'NNS'),\n",
       " ('and', 'CC'),\n",
       " ('lots', 'NNS'),\n",
       " ('of', 'IN'),\n",
       " ('fun', 'NN'),\n",
       " ('videos', 'NNS'),\n",
       " ('So', 'RB'),\n",
       " ('coming', 'JJ'),\n",
       " ('soon', 'RB'),\n",
       " ('our', 'PRP$'),\n",
       " ('Master', 'NNP'),\n",
       " ('Member', 'NNP'),\n",
       " ('Video', 'NNP'),\n",
       " ('Site', 'NNP'),\n",
       " ('And', 'CC'),\n",
       " ('next', 'JJ'),\n",
       " ('week', 'NN'),\n",
       " ('we', 'PRP'),\n",
       " ('will', 'MD'),\n",
       " ('begin', 'VB'),\n",
       " ('testing', 'VBG'),\n",
       " ('it', 'PRP'),\n",
       " ('with', 'IN'),\n",
       " ('just', 'RB'),\n",
       " ('a', 'DT'),\n",
       " ('few', 'JJ'),\n",
       " ('of', 'IN'),\n",
       " ('our', 'PRP$'),\n",
       " ('special', 'JJ'),\n",
       " ('top', 'JJ'),\n",
       " ('members', 'NNS'),\n",
       " ('I', 'PRP'),\n",
       " (\"'ll\", 'MD'),\n",
       " ('keep', 'VB'),\n",
       " ('giving', 'VBG'),\n",
       " ('you', 'PRP'),\n",
       " ('more', 'JJR'),\n",
       " ('information', 'NN'),\n",
       " ('about', 'IN'),\n",
       " ('the', 'DT'),\n",
       " ('video', 'NN'),\n",
       " ('site', 'NN'),\n",
       " ('as', 'IN'),\n",
       " ('we', 'PRP'),\n",
       " ('test', 'VBP'),\n",
       " ('it', 'PRP'),\n",
       " ('And', 'CC'),\n",
       " ('I', 'PRP'),\n",
       " ('will', 'MD'),\n",
       " ('tell', 'VB'),\n",
       " ('you', 'PRP'),\n",
       " ('when', 'WRB'),\n",
       " ('it', 'PRP'),\n",
       " (\"'s\", 'VBZ'),\n",
       " ('ready', 'JJ'),\n",
       " ('for', 'IN'),\n",
       " ('everybody', 'NN'),\n",
       " ('Very', 'RB'),\n",
       " ('very', 'RB'),\n",
       " ('exciting', 'JJ'),\n",
       " ('So', 'RB'),\n",
       " ('keep', 'VB'),\n",
       " ('coming', 'VBG'),\n",
       " ('back', 'RB'),\n",
       " ('and', 'CC'),\n",
       " ('listening', 'VBG'),\n",
       " ('for', 'IN'),\n",
       " ('updates', 'NNS'),\n",
       " ('about', 'IN'),\n",
       " ('our', 'PRP$'),\n",
       " ('new', 'JJ'),\n",
       " ('subscription', 'NN'),\n",
       " ('member', 'NN'),\n",
       " ('video', 'NN'),\n",
       " ('site', 'NN'),\n",
       " ('the', 'DT'),\n",
       " ('Master', 'NNP'),\n",
       " ('Member', 'NNP'),\n",
       " ('Video', 'NNP'),\n",
       " ('Site', 'NNP'),\n",
       " ('Coming', 'VBG'),\n",
       " ('soon', 'RB'),\n",
       " ('Bye', 'NNP'),\n",
       " ('bye', 'NN')]"
      ]
     },
     "execution_count": 5,
     "metadata": {},
     "output_type": "execute_result"
    }
   ],
   "source": [
    "output = TextBlob(text)\n",
    "output.tags"
   ]
  },
  {
   "cell_type": "code",
   "execution_count": 6,
   "id": "741e1656",
   "metadata": {},
   "outputs": [],
   "source": [
    "original_tokens = nltk.word_tokenize(text)\n",
    "# lower_tokens = nltk.word_tokenize(summary.lower())\n",
    "# print(original_tokens)"
   ]
  },
  {
   "cell_type": "code",
   "execution_count": 7,
   "id": "35d2c31a",
   "metadata": {},
   "outputs": [
    {
     "name": "stdout",
     "output_type": "stream",
     "text": [
      "['Hello', '!', 'I', \"'m\", 'back', '!', 'I', \"'m\", 'back', 'in', 'San', 'Francisco', '.', 'As', 'you', 'may', 'know', ',', 'I', 'have', 'been', 'traveling', 'for', 'the', 'last', '10', 'weeks', '.', 'So', 'that', \"'s\", 'why', 'I', 'have', 'not', 'added', 'more', 'podcasts', 'to', 'the', 'Effortless', 'English', 'podcast', '.', 'I', \"'ve\", 'been', 'traveling', 'in', 'Thailand', 'and', 'Singapore', 'and', 'Cambodia', '.', 'And', 'I', 'did', 'a', 'big', 'seminar', ',', 'an', 'Effortless', 'English', 'seminar', 'in', 'Bangkok', ',', 'and', 'it', 'was', 'fantastic', '.', 'It', 'was', 'amazing', '.', 'But', 'unfortunately', ',', 'I', 'was', 'very', 'busy', 'while', 'traveling', '.', 'And', 'I', 'just', 'did', \"n't\", 'have', 'time', 'or', 'fast', 'internet', 'connections', 'to', 'add', 'more', 'podcasts', '.', 'But', 'now', 'I', 'just', 'got', 'back', 'to', 'San', 'Francisco', '.', 'I', 'just', 'got', 'back', 'home', '.', 'So', 'now', 'I', 'will', 'be', 'adding', 'more', 'podcasts', 'again', '.', 'And', 'this', 'is', 'the', 'first', 'one', '.', 'So', 'back', 'in', 'San', 'Francisco', ',', 'look', 'forward', 'to', 'more', 'podcasts', 'from', 'Effortless', 'English', 'coming', 'soon', '.', 'This', 'is', 'AJ', 'Hogue', '.', 'See', 'you', 'soon', '.', 'Bye-bye', '.', 'Oh', ',', 'and', 'one', 'more', 'thing', '.', 'Our', 'new', 'video', ',', 'Master', 'Member', 'Site', ',', 'is', 'almost', 'ready', 'for', 'testing', '.', 'In', 'fact', ',', 'we', 'will', 'probably', 'start', 'testing', 'with', 'a', 'few', 'of', 'our', 'all-star', 'members', 'next', 'week', '.', 'This', 'is', 'a', 'very', ',', 'very', 'exciting', 'project', '.', 'So', 'this', 'site', 'will', 'be', 'a', 'member', 'site', '.', 'So', 'members', 'will', 'join', '.', 'You', 'pay', 'a', 'monthly', 'subscription', '.', 'Not', 'so', 'much', '.', 'It', 'will', 'be', 'less', 'than', '$', '25', 'a', 'month', '.', 'Not', 'so', 'much', '.', 'Quite', 'cheap', '.', 'We', \"'re\", 'keeping', 'it', 'cheaper', '.', 'And', 'you', \"'ll\", 'sign', 'up', '.', 'You', \"'ll\", 'subscribe', 'to', 'the', 'video', 'site', '.', 'You', \"'ll\", 'get', 'a', 'username', 'and', 'a', 'password', '.', 'And', 'then', 'you', 'can', 'watch', 'videos', 'of', 'me', 'with', 'text', '.', 'So', 'again', ',', 'you', 'can', 'get', 'a', 'lot', 'more', 'English', 'input', '.', 'And', 'you', \"'ll\", 'also', 'be', 'able', 'to', 'read', 'everything', '.', 'So', 'you', 'can', 'use', 'a', 'dictionary', 'if', 'you', 'need', 'to', '.', 'So', 'this', 'will', 'be', 'a', 'very', 'exciting', 'fun', 'site', 'with', ',', 'I', \"'ll\", 'add', 'little', 'extra', 'lessons', 'and', 'lots', 'of', 'fun', 'videos', '.', 'So', 'coming', 'soon', ',', 'our', 'Master', 'Member', 'Video', 'Site', '.', 'And', 'next', 'week', ',', 'we', 'will', 'begin', 'testing', 'it', 'with', 'just', 'a', 'few', 'of', 'our', 'special', 'top', 'members', '.', 'I', \"'ll\", 'keep', 'giving', 'you', 'more', 'information', 'about', 'the', 'video', 'site', 'as', 'we', 'test', 'it', '.', 'And', 'I', 'will', 'tell', 'you', 'when', 'it', \"'s\", 'ready', 'for', 'everybody', '.', 'Very', ',', 'very', 'exciting', '.', 'So', 'keep', 'coming', 'back', 'and', 'listening', 'for', 'updates', 'about', 'our', 'new', 'subscription', 'member', 'video', 'site', ',', 'the', 'Master', 'Member', 'Video', 'Site', '.', 'Coming', 'soon', '.', 'Bye', 'bye', '.']\n"
     ]
    }
   ],
   "source": [
    "print(original_tokens)"
   ]
  },
  {
   "cell_type": "code",
   "execution_count": 8,
   "id": "a4f02769",
   "metadata": {},
   "outputs": [
    {
     "name": "stdout",
     "output_type": "stream",
     "text": [
      "{'Hello': 'NN', 'I': 'PRP', \"'m\": 'VBP', 'back': 'RB', 'in': 'IN', 'San': 'NNP', 'Francisco': 'NNP', 'As': 'IN', 'you': 'PRP', 'may': 'MD', 'know': 'VB', 'have': 'VB', 'been': 'VBN', 'traveling': 'VBG', 'for': 'IN', 'the': 'DT', 'last': 'JJ', '10': 'CD', 'weeks': 'NNS', 'So': 'RB', 'that': 'DT', \"'s\": 'VBZ', 'why': 'WRB', 'not': 'RB', 'added': 'VBN', 'more': 'JJR', 'podcasts': 'NNS', 'to': 'TO', 'Effortless': 'NNP', 'English': 'JJ', 'podcast': 'NN', \"'ve\": 'VBP', 'Thailand': 'NNP', 'and': 'CC', 'Singapore': 'NNP', 'Cambodia': 'NNP', 'And': 'CC', 'did': 'VBD', 'a': 'DT', 'big': 'JJ', 'seminar': 'NN', 'an': 'DT', 'Bangkok': 'NNP', 'it': 'PRP', 'was': 'VBD', 'fantastic': 'JJ', 'It': 'PRP', 'amazing': 'VBG', 'But': 'CC', 'unfortunately': 'RB', 'very': 'RB', 'busy': 'JJ', 'while': 'IN', 'just': 'RB', \"n't\": 'RB', 'time': 'NN', 'or': 'CC', 'fast': 'JJ', 'internet': 'NN', 'connections': 'NNS', 'add': 'VB', 'now': 'RB', 'got': 'VBD', 'home': 'NN', 'will': 'MD', 'be': 'VB', 'adding': 'VBG', 'again': 'RB', 'this': 'DT', 'is': 'VBZ', 'first': 'JJ', 'one': 'CD', 'look': 'VB', 'forward': 'RB', 'from': 'IN', 'coming': 'VBG', 'soon': 'RB', 'This': 'DT', 'AJ': 'NNP', 'Hogue': 'NNP', 'See': 'VB', 'Bye-bye': 'NNP', 'Oh': 'UH', 'thing': 'NN', 'Our': 'PRP$', 'new': 'JJ', 'video': 'NN', 'Master': 'NNP', 'Member': 'NNP', 'Site': 'NNP', 'almost': 'RB', 'ready': 'JJ', 'testing': 'VBG', 'In': 'IN', 'fact': 'NN', 'we': 'PRP', 'probably': 'RB', 'start': 'VB', 'with': 'IN', 'few': 'JJ', 'of': 'IN', 'our': 'PRP$', 'all-star': 'JJ', 'members': 'NNS', 'next': 'JJ', 'week': 'NN', 'exciting': 'JJ', 'project': 'NN', 'site': 'NN', 'member': 'NN', 'join': 'VB', 'You': 'PRP', 'pay': 'VBP', 'monthly': 'JJ', 'subscription': 'NN', 'Not': 'RB', 'so': 'RB', 'much': 'JJ', 'less': 'JJR', 'than': 'IN', '25': 'CD', 'month': 'NN', 'Quite': 'RB', 'cheap': 'JJ', 'We': 'PRP', \"'re\": 'VBP', 'keeping': 'VBG', 'cheaper': 'JJR', \"'ll\": 'MD', 'sign': 'VB', 'up': 'RP', 'subscribe': 'VB', 'get': 'VB', 'username': 'NN', 'password': 'NN', 'then': 'RB', 'can': 'MD', 'watch': 'VB', 'videos': 'NNS', 'me': 'PRP', 'text': 'NN', 'lot': 'NN', 'input': 'NN', 'also': 'RB', 'able': 'JJ', 'read': 'VB', 'everything': 'NN', 'use': 'VB', 'dictionary': 'JJ', 'if': 'IN', 'need': 'VBP', 'fun': 'NN', 'little': 'JJ', 'extra': 'JJ', 'lessons': 'NNS', 'lots': 'NNS', 'Video': 'NNP', 'begin': 'VB', 'special': 'JJ', 'top': 'JJ', 'keep': 'VB', 'giving': 'VBG', 'information': 'NN', 'about': 'IN', 'as': 'IN', 'test': 'VBP', 'tell': 'VB', 'when': 'WRB', 'everybody': 'NN', 'Very': 'RB', 'listening': 'VBG', 'updates': 'NNS', 'Coming': 'VBG', 'Bye': 'NNP', 'bye': 'NN'}\n"
     ]
    }
   ],
   "source": [
    "tagger_dict = dict((x, y) for x, y in tuple(output.tags))\n",
    "print(tagger_dict)"
   ]
  },
  {
   "cell_type": "code",
   "execution_count": 9,
   "id": "beaf840d",
   "metadata": {},
   "outputs": [
    {
     "name": "stdout",
     "output_type": "stream",
     "text": [
      "Hello ! I 'm ! I 'm in San Francisco . As you may know , I have been traveling for the last 10 weeks . that 's why I have not added more podcasts to the Effortless English podcast . I 've been traveling in Thailand and Singapore and Cambodia . I did a big seminar , an Effortless English seminar in Bangkok , and it was fantastic . It was amazing . But , I was busy while traveling . I did have time or fast internet connections to add more podcasts . But I got to San Francisco . I got home . I will be adding more podcasts . this is the first one . in San Francisco , look to more podcasts from Effortless English coming . This is AJ Hogue . See you . Bye-bye . Oh , and one more thing . Our new video , Master Member Site , is ready for testing . In fact , we will start testing with a few of our all-star members next week . This is a , exciting project . this site will be a member site . members will join . You pay a monthly subscription . much . It will be less than $ 25 a month . much . cheap . We 're keeping it cheaper . you 'll sign up . You 'll subscribe to the video site . You 'll get a username and a password . you can watch videos of me with text . , you can get a lot more English input . you 'll be able to read everything . you can use a dictionary if you need to . this will be a exciting fun site with , I 'll add little extra lessons and lots of fun videos . coming , our Master Member Video Site . next week , we will begin testing it with a few of our special top members . I 'll keep giving you more information about the video site as we test it . I will tell you when it 's ready for everybody . , exciting . keep coming and listening for updates about our new subscription member video site , the Master Member Video Site . Coming . Bye bye .\n"
     ]
    }
   ],
   "source": [
    "output = []\n",
    "for token in original_tokens:\n",
    "#     lower_token = token.lower()\n",
    "    if token in tagger_dict.keys():\n",
    "        if (token != 'not' and tagger_dict[token] == 'RB') or token == 'And':\n",
    "            pass\n",
    "        else:\n",
    "            output.append(token)\n",
    "    else:\n",
    "        output.append(token)\n",
    "text = ' '.join(output)\n",
    "print(text)"
   ]
  },
  {
   "cell_type": "markdown",
   "id": "0d85bd4d",
   "metadata": {},
   "source": [
    "# ###"
   ]
  },
  {
   "cell_type": "code",
   "execution_count": 10,
   "id": "f75f571c",
   "metadata": {},
   "outputs": [],
   "source": [
    "nlp = English()\n",
    "ruler = nlp.add_pipe(\"sentencizer\")"
   ]
  },
  {
   "cell_type": "code",
   "execution_count": 11,
   "id": "45c6f7e0",
   "metadata": {},
   "outputs": [],
   "source": [
    "# doc = nlp(text_corpus.replace(\"\\n\", \"\"))\n",
    "doc = nlp(text)\n",
    "sentences = [str(sent).strip() for sent in doc.sents]"
   ]
  },
  {
   "cell_type": "code",
   "execution_count": 12,
   "id": "b0f210b0",
   "metadata": {},
   "outputs": [
    {
     "name": "stdout",
     "output_type": "stream",
     "text": [
      "Senetence are: \n",
      " ['Hello !', \"I 'm !\", \"I 'm in San Francisco .\", 'As you may know , I have been traveling for the last 10 weeks .', \"that 's why I have not added more podcasts to the Effortless English podcast .\", \"I 've been traveling in Thailand and Singapore and Cambodia .\", 'I did a big seminar , an Effortless English seminar in Bangkok , and it was fantastic .', 'It was amazing .', 'But , I was busy while traveling .', 'I did have time or fast internet connections to add more podcasts .', 'But I got to San Francisco .', 'I got home .', 'I will be adding more podcasts .', 'this is the first one .', 'in San Francisco , look to more podcasts from Effortless English coming .', 'This is AJ Hogue .', 'See you .', 'Bye-bye .', 'Oh , and one more thing .', 'Our new video , Master Member Site , is ready for testing .', 'In fact , we will start testing with a few of our all-star members next week .', 'This is a , exciting project .', 'this site will be a member site .', 'members will join .', 'You pay a monthly subscription .', 'much .', 'It will be less than $ 25 a month .', 'much .', 'cheap .', \"We 're keeping it cheaper .\", \"you 'll sign up .\", \"You 'll subscribe to the video site .\", \"You 'll get a username and a password .\", 'you can watch videos of me with text . ,', 'you can get a lot more English input .', \"you 'll be able to read everything .\", 'you can use a dictionary if you need to .', \"this will be a exciting fun site with , I 'll add little extra lessons and lots of fun videos .\", 'coming , our Master Member Video Site .', 'next week , we will begin testing it with a few of our special top members .', \"I 'll keep giving you more information about the video site as we test it .\", \"I will tell you when it 's ready for everybody . ,\", 'exciting .', 'keep coming and listening for updates about our new subscription member video site , the Master Member Video Site .', 'Coming .', 'Bye bye .']\n"
     ]
    }
   ],
   "source": [
    "print(\"Senetence are: \\n\", sentences)"
   ]
  },
  {
   "cell_type": "code",
   "execution_count": 13,
   "id": "07e3e4e0",
   "metadata": {},
   "outputs": [],
   "source": [
    "sentence_organizer = {k:v for v,k in enumerate(sentences)}"
   ]
  },
  {
   "cell_type": "code",
   "execution_count": 14,
   "id": "eae5cf47",
   "metadata": {},
   "outputs": [
    {
     "name": "stdout",
     "output_type": "stream",
     "text": [
      "Our sentence organizer: \n",
      " {'Hello !': 0, \"I 'm !\": 1, \"I 'm in San Francisco .\": 2, 'As you may know , I have been traveling for the last 10 weeks .': 3, \"that 's why I have not added more podcasts to the Effortless English podcast .\": 4, \"I 've been traveling in Thailand and Singapore and Cambodia .\": 5, 'I did a big seminar , an Effortless English seminar in Bangkok , and it was fantastic .': 6, 'It was amazing .': 7, 'But , I was busy while traveling .': 8, 'I did have time or fast internet connections to add more podcasts .': 9, 'But I got to San Francisco .': 10, 'I got home .': 11, 'I will be adding more podcasts .': 12, 'this is the first one .': 13, 'in San Francisco , look to more podcasts from Effortless English coming .': 14, 'This is AJ Hogue .': 15, 'See you .': 16, 'Bye-bye .': 17, 'Oh , and one more thing .': 18, 'Our new video , Master Member Site , is ready for testing .': 19, 'In fact , we will start testing with a few of our all-star members next week .': 20, 'This is a , exciting project .': 21, 'this site will be a member site .': 22, 'members will join .': 23, 'You pay a monthly subscription .': 24, 'much .': 27, 'It will be less than $ 25 a month .': 26, 'cheap .': 28, \"We 're keeping it cheaper .\": 29, \"you 'll sign up .\": 30, \"You 'll subscribe to the video site .\": 31, \"You 'll get a username and a password .\": 32, 'you can watch videos of me with text . ,': 33, 'you can get a lot more English input .': 34, \"you 'll be able to read everything .\": 35, 'you can use a dictionary if you need to .': 36, \"this will be a exciting fun site with , I 'll add little extra lessons and lots of fun videos .\": 37, 'coming , our Master Member Video Site .': 38, 'next week , we will begin testing it with a few of our special top members .': 39, \"I 'll keep giving you more information about the video site as we test it .\": 40, \"I will tell you when it 's ready for everybody . ,\": 41, 'exciting .': 42, 'keep coming and listening for updates about our new subscription member video site , the Master Member Video Site .': 43, 'Coming .': 44, 'Bye bye .': 45}\n"
     ]
    }
   ],
   "source": [
    "print(\"Our sentence organizer: \\n\", sentence_organizer)"
   ]
  },
  {
   "cell_type": "code",
   "execution_count": 15,
   "id": "bf6ddcb0",
   "metadata": {},
   "outputs": [],
   "source": [
    "# tf_idf_vectorizer = TfidfVectorizer(min_df=2,  max_features=None, \n",
    "#                                     strip_accents='unicode', \n",
    "#                                     analyzer='word',\n",
    "#                                     token_pattern=r'\\w{1,}',\n",
    "#                                     ngram_range=(1, 3), \n",
    "#                                     use_idf=1,smooth_idf=1,\n",
    "#                                     sublinear_tf=1,\n",
    "#                                     stop_words = 'english')\n",
    "tf_idf_vectorizer = TfidfVectorizer()"
   ]
  },
  {
   "cell_type": "code",
   "execution_count": 16,
   "id": "af59d3e4",
   "metadata": {
    "scrolled": true
   },
   "outputs": [
    {
     "data": {
      "text/plain": [
       "TfidfVectorizer()"
      ]
     },
     "execution_count": 16,
     "metadata": {},
     "output_type": "execute_result"
    }
   ],
   "source": [
    "tf_idf_vectorizer.fit(sentences)"
   ]
  },
  {
   "cell_type": "code",
   "execution_count": 17,
   "id": "4ba592c3",
   "metadata": {},
   "outputs": [],
   "source": [
    "sentence_vectors = tf_idf_vectorizer.transform(sentences)"
   ]
  },
  {
   "cell_type": "code",
   "execution_count": 18,
   "id": "4df0d6f2",
   "metadata": {},
   "outputs": [],
   "source": [
    "sentence_scores = np.array(sentence_vectors.sum(axis=1)).ravel()"
   ]
  },
  {
   "cell_type": "code",
   "execution_count": 19,
   "id": "c106838a",
   "metadata": {},
   "outputs": [
    {
     "name": "stdout",
     "output_type": "stream",
     "text": [
      "[1.         0.         1.72920239 3.42169166 3.42278524 2.78159047\n",
      " 3.26667693 1.70938451 2.22861717 3.28336979 2.22401438 1.41235856\n",
      " 2.20527517 2.21569379 3.28863633 1.98095245 1.35805073 1.\n",
      " 2.20473522 3.14976952 3.84082115 1.98583344 2.14501791 1.70480827\n",
      " 1.95547028 1.         2.60111575 1.         1.         2.20874056\n",
      " 1.9446416  2.60469531 2.39707692 2.78816041 2.59909264 2.5856542\n",
      " 2.6193684  3.78060469 2.44381478 3.70775777 3.68169507 2.76812303\n",
      " 1.         3.73636648 1.         1.        ]\n"
     ]
    }
   ],
   "source": [
    "print(sentence_scores)"
   ]
  },
  {
   "cell_type": "code",
   "execution_count": 20,
   "id": "83633b69",
   "metadata": {},
   "outputs": [],
   "source": [
    "mean_score = sentence_scores.mean()"
   ]
  },
  {
   "cell_type": "code",
   "execution_count": 21,
   "id": "41262f0b",
   "metadata": {},
   "outputs": [],
   "source": [
    "# top_n_sentences =[]\n",
    "# for index,score in enumerate(sentence_scores):\n",
    "#     if score >= mean_score:\n",
    "#         top_n_sentences.append(sentences[index])\n",
    "    "
   ]
  },
  {
   "cell_type": "code",
   "execution_count": 22,
   "id": "799b14d0",
   "metadata": {},
   "outputs": [
    {
     "name": "stdout",
     "output_type": "stream",
     "text": [
      "N= 15 46\n"
     ]
    }
   ],
   "source": [
    "N = int(len(sentences)/3)\n",
    "print('N=',N,len(sentences))\n",
    "top_n_sentences = [sentences[ind] for ind in np.argsort(sentence_scores, axis=0)[::-1][:N]]\n",
    "# top_n_sentences = [(sentences[ind],sentence_scores[ind]) for ind in np.argsort(sentence_scores, axis=0)[::-1]]"
   ]
  },
  {
   "cell_type": "code",
   "execution_count": 23,
   "id": "5963ab90",
   "metadata": {},
   "outputs": [
    {
     "name": "stdout",
     "output_type": "stream",
     "text": [
      "['In fact , we will start testing with a few of our all-star members next week .', \"this will be a exciting fun site with , I 'll add little extra lessons and lots of fun videos .\", 'keep coming and listening for updates about our new subscription member video site , the Master Member Video Site .', 'next week , we will begin testing it with a few of our special top members .', \"I 'll keep giving you more information about the video site as we test it .\", \"that 's why I have not added more podcasts to the Effortless English podcast .\", 'As you may know , I have been traveling for the last 10 weeks .', 'in San Francisco , look to more podcasts from Effortless English coming .', 'I did have time or fast internet connections to add more podcasts .', 'I did a big seminar , an Effortless English seminar in Bangkok , and it was fantastic .', 'Our new video , Master Member Site , is ready for testing .', 'you can watch videos of me with text . ,', \"I 've been traveling in Thailand and Singapore and Cambodia .\", \"I will tell you when it 's ready for everybody . ,\", 'you can use a dictionary if you need to .']\n"
     ]
    }
   ],
   "source": [
    "print(top_n_sentences)"
   ]
  },
  {
   "cell_type": "code",
   "execution_count": 24,
   "id": "37c2961a",
   "metadata": {},
   "outputs": [],
   "source": [
    "mapped_top_n_sentences = [(sentence,sentence_organizer[sentence]) for sentence in top_n_sentences]\n",
    "# print(\"Our top_n_sentence with their index: \\n\")\n",
    "# for element in mapped_top_n_sentences:\n",
    "#     print(element)\n",
    "\n",
    "mapped_top_n_sentences = sorted(mapped_top_n_sentences, key = lambda x: x[1])\n",
    "ordered_scored_sentences = [element[0] for element in mapped_top_n_sentences]\n",
    "\n",
    "summary = \" \".join(ordered_scored_sentences)"
   ]
  },
  {
   "cell_type": "code",
   "execution_count": 25,
   "id": "6c573abc",
   "metadata": {},
   "outputs": [
    {
     "data": {
      "text/plain": [
       "(1773, 1072, 60)"
      ]
     },
     "execution_count": 25,
     "metadata": {},
     "output_type": "execute_result"
    }
   ],
   "source": [
    "len(text),len(summary),int((len(summary)*100)/len(text))"
   ]
  },
  {
   "cell_type": "code",
   "execution_count": 26,
   "id": "57044f9b",
   "metadata": {},
   "outputs": [
    {
     "name": "stdout",
     "output_type": "stream",
     "text": [
      "As you may know , I have been traveling for the last 10 weeks . that 's why I have not added more podcasts to the Effortless English podcast . I 've been traveling in Thailand and Singapore and Cambodia . I did a big seminar , an Effortless English seminar in Bangkok , and it was fantastic . I did have time or fast internet connections to add more podcasts . in San Francisco , look to more podcasts from Effortless English coming . Our new video , Master Member Site , is ready for testing . In fact , we will start testing with a few of our all-star members next week . you can watch videos of me with text . , you can use a dictionary if you need to . this will be a exciting fun site with , I 'll add little extra lessons and lots of fun videos . next week , we will begin testing it with a few of our special top members . I 'll keep giving you more information about the video site as we test it . I will tell you when it 's ready for everybody . , keep coming and listening for updates about our new subscription member video site , the Master Member Video Site .\n"
     ]
    }
   ],
   "source": [
    "print(summary)"
   ]
  },
  {
   "cell_type": "code",
   "execution_count": null,
   "id": "64dbc0c0",
   "metadata": {},
   "outputs": [],
   "source": []
  },
  {
   "cell_type": "code",
   "execution_count": 27,
   "id": "2a8fd35a",
   "metadata": {},
   "outputs": [
    {
     "name": "stdout",
     "output_type": "stream",
     "text": [
      "Summary: \n",
      " AS you may know, I have been traveling for the last 10 weeks. That's why I have not added more podcasts to the Effortless English podcast. I've been traveling in Thailand and Singapore and Cambodia. I did a big seminar, an Effortless English seminar in Bangkok, and it was fantastic. I did have time or fast internet connections to add more podcasts. In San Francisco, look to more podcasts from Effortless English coming. Our new video, Master Member Site, is ready for testing. In fact, we will start testing with a few of our all-star members next week. You can watch videos of me with text. You can use a dictionary if you need to. This will be a exciting fun site with, I'll add little extra lessons and lots of fun videos. Next week, we will begin testing it with a few of our special top members. I'll keep giving you more information about the video site as we test it. I will tell you when it's ready for everybody. Keep coming and listening for updates about our new subscription member video site, the Master Member Video Site.\n"
     ]
    }
   ],
   "source": [
    "update = ''\n",
    "for index,character in enumerate(summary):\n",
    "    try:\n",
    "        if (character == ',' and summary[index-2] == '.'):\n",
    "            update = update[:-1]\n",
    "        elif ord(character) in range(97,123) and (summary[index-2] == '.' or update[-2] == '.'):\n",
    "            update+= character.upper()\n",
    "        else:\n",
    "            if (character in ['.',',',\"'\"]):\n",
    "                update = update[:-1]\n",
    "            update+= character\n",
    "    except: update+= character\n",
    "print(\"Summary: \\n\", update)"
   ]
  },
  {
   "cell_type": "code",
   "execution_count": null,
   "id": "fb9f91db",
   "metadata": {},
   "outputs": [],
   "source": []
  }
 ],
 "metadata": {
  "kernelspec": {
   "display_name": "Python 3 (ipykernel)",
   "language": "python",
   "name": "python3"
  },
  "language_info": {
   "codemirror_mode": {
    "name": "ipython",
    "version": 3
   },
   "file_extension": ".py",
   "mimetype": "text/x-python",
   "name": "python",
   "nbconvert_exporter": "python",
   "pygments_lexer": "ipython3",
   "version": "3.9.7"
  }
 },
 "nbformat": 4,
 "nbformat_minor": 5
}
